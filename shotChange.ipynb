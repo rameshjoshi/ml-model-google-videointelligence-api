{
 "cells": [
  {
   "cell_type": "code",
   "execution_count": 2,
   "id": "fcc001ab-9f8d-45f7-bcc4-9db8435e5277",
   "metadata": {},
   "outputs": [
    {
     "name": "stdout",
     "output_type": "stream",
     "text": [
      "Collecting argparse\n",
      "  Downloading argparse-1.4.0-py2.py3-none-any.whl (23 kB)\n",
      "Installing collected packages: argparse\n",
      "Successfully installed argparse-1.4.0\n"
     ]
    },
    {
     "name": "stderr",
     "output_type": "stream",
     "text": [
      "\n",
      "[notice] A new release of pip is available: 23.3.1 -> 23.3.2\n",
      "[notice] To update, run: python.exe -m pip install --upgrade pip\n"
     ]
    }
   ],
   "source": [
    "!pip install argparse"
   ]
  },
  {
   "cell_type": "code",
   "execution_count": 3,
   "id": "b4e611b5-63e4-446a-b4e3-aeb48ae6d6ab",
   "metadata": {},
   "outputs": [
    {
     "name": "stdout",
     "output_type": "stream",
     "text": [
      "Collecting google.cloud\n",
      "  Downloading google_cloud-0.34.0-py2.py3-none-any.whl (1.8 kB)\n",
      "Installing collected packages: google.cloud\n",
      "Successfully installed google.cloud-0.34.0\n"
     ]
    },
    {
     "name": "stderr",
     "output_type": "stream",
     "text": [
      "\n",
      "[notice] A new release of pip is available: 23.3.1 -> 23.3.2\n",
      "[notice] To update, run: python.exe -m pip install --upgrade pip\n"
     ]
    }
   ],
   "source": [
    "!pip install --upgrade google-cloud-videointelligence"
   ]
  },
  {
   "cell_type": "code",
   "execution_count": 7,
   "id": "57763137-ed7b-4dbf-a594-bd310a751046",
   "metadata": {},
   "outputs": [],
   "source": [
    "from google.cloud import videointelligence"
   ]
  },
  {
   "cell_type": "code",
   "execution_count": 8,
   "id": "e2e201c9-42be-4184-9185-401a21e7a4b1",
   "metadata": {},
   "outputs": [
    {
     "name": "stderr",
     "output_type": "stream",
     "text": [
      "usage: ipykernel_launcher.py [-h] path\n",
      "ipykernel_launcher.py: error: unrecognized arguments: -f\n"
     ]
    },
    {
     "ename": "SystemExit",
     "evalue": "2",
     "output_type": "error",
     "traceback": [
      "An exception has occurred, use %tb to see the full traceback.\n",
      "\u001b[1;31mSystemExit\u001b[0m\u001b[1;31m:\u001b[0m 2\n"
     ]
    },
    {
     "name": "stderr",
     "output_type": "stream",
     "text": [
      "C:\\Users\\rames\\venv\\Lib\\site-packages\\IPython\\core\\interactiveshell.py:3558: UserWarning: To exit: use 'exit', 'quit', or Ctrl-D.\n",
      "  warn(\"To exit: use 'exit', 'quit', or Ctrl-D.\", stacklevel=1)\n"
     ]
    }
   ],
   "source": [
    "import argparse\n",
    "\n",
    "from google.cloud import videointelligence\n",
    "\n",
    "def analyze_shots(path):\n",
    "    \"\"\"Detects camera shot changes.\"\"\"\n",
    "    video_client = videointelligence.VideoIntelligenceServiceClient()\n",
    "    features = [videointelligence.Feature.SHOT_CHANGE_DETECTION]\n",
    "    operation = video_client.annotate_video(\n",
    "        request={\"features\": features, \"input_uri\": path}\n",
    "    )\n",
    "    print(\"\\nProcessing video for shot change annotations:\")\n",
    "\n",
    "    result = operation.result(timeout=120)\n",
    "    print(\"\\nFinished processing.\")\n",
    "\n",
    "\n",
    "    for i, shot in enumerate(result.annotation_results[0].shot_annotations):\n",
    "        start_time = (\n",
    "            shot.start_time_offset.seconds + shot.start_time_offset.microseconds / 1e6\n",
    "        )\n",
    "        end_time = (\n",
    "            shot.end_time_offset.seconds + shot.end_time_offset.microseconds / 1e6\n",
    "        )\n",
    "        print(\"\\tShot {}: {} to {}\".format(i, start_time, end_time))\n",
    "\n",
    "\n",
    "if __name__ == \"__main__\":\n",
    "    parser = argparse.ArgumentParser(\n",
    "        description=__doc__, formatter_class=argparse.RawDescriptionHelpFormatter\n",
    "    )\n",
    "    parser.add_argument(\"path\", help=\"GCS path for shot change detection.\")\n",
    "    args = parser.parse_args()\n",
    "\n",
    "    analyze_shots(args.path)"
   ]
  },
  {
   "cell_type": "code",
   "execution_count": null,
   "id": "1199ffde-3830-4444-b971-a79fd4206023",
   "metadata": {},
   "outputs": [],
   "source": []
  }
 ],
 "metadata": {
  "kernelspec": {
   "display_name": "Python 3 (ipykernel)",
   "language": "python",
   "name": "python3"
  },
  "language_info": {
   "codemirror_mode": {
    "name": "ipython",
    "version": 3
   },
   "file_extension": ".py",
   "mimetype": "text/x-python",
   "name": "python",
   "nbconvert_exporter": "python",
   "pygments_lexer": "ipython3",
   "version": "3.12.1"
  }
 },
 "nbformat": 4,
 "nbformat_minor": 5
}
